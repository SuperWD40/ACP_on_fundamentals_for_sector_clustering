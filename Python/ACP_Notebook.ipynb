{
 "cells": [
  {
   "cell_type": "code",
   "execution_count": 146,
   "metadata": {},
   "outputs": [],
   "source": [
    "import pandas as pd\n",
    "import numpy as np\n",
    "from matplotlib import pyplot as plt\n",
    "import seaborn as sns\n",
    "import os\n",
    "from sklearn.decomposition import PCA\n",
    "from sklearn.preprocessing import StandardScaler\n",
    "import ipywidgets as widgets\n",
    "from IPython.display import display, clear_output"
   ]
  },
  {
   "cell_type": "code",
   "execution_count": 147,
   "metadata": {},
   "outputs": [],
   "source": [
    "class my_pca:\n",
    "    def __init__(self, data):\n",
    "        # Normalisation des données\n",
    "        scaler = StandardScaler()\n",
    "        data_scaled = scaler.fit_transform(data)\n",
    "\n",
    "        # Application de l'ACP\n",
    "        pca = PCA()\n",
    "        data_pca = pca.fit_transform(data_scaled)\n",
    "        data_pca = pd.DataFrame(\n",
    "            data_pca,\n",
    "            columns=[f'PC{x}' for x in range(1,data_pca.shape[1]+1)]\n",
    "        )\n",
    "\n",
    "        self.data = data\n",
    "        self.data_pca = data_pca\n",
    "        self.pca = pca\n",
    "\n",
    "    def eigenval_plot(self):\n",
    "        plt.figure(figsize=(8,5))\n",
    "        plt.bar(range(1, len(self.pca.explained_variance_ratio_)+1), self.pca.explained_variance_ratio_, color='blue', alpha=0.7)\n",
    "        plt.xlabel(\"Factors\")\n",
    "        plt.ylabel(\"Percentage of Inertia\")\n",
    "        plt.title(\"Eigenvalues histogram\")\n",
    "        plt.xticks(np.arange(1, len(self.pca.explained_variance_ratio_)+1, step=1))\n",
    "        plt.grid(axis='y', linestyle='--', alpha=0.7)\n",
    "\n",
    "    def var_plot(self):\n",
    "        # Conteneur d'affichage\n",
    "        output = widgets.Output()\n",
    "\n",
    "        # Fonction de mise à jour du graphique\n",
    "        def update_plot(*_):\n",
    "            with output:\n",
    "                clear_output(wait=True)\n",
    "                pc_x, pc_y = pc_x_widget.value - 1, pc_y_widget.value - 1  # Ajuster les indices\n",
    "                fig, ax = plt.subplots(figsize=(fig_size_widget.value, fig_size_widget.value))  # Taille ajustable\n",
    "                \n",
    "                # Ajouter les noms des points en restant dans les limites définies\n",
    "                if show_point.value:\n",
    "                    sns.scatterplot(x=f'PC{pc_x+1}', y=f'PC{pc_y+1}', data=self.data_pca, s=30)\n",
    "                    for i, txt in enumerate(self.data.index):\n",
    "                        x, y = self.data_pca.iloc[i, pc_x], self.data_pca.iloc[i, pc_y]\n",
    "                        ax.text(x, y, txt, fontsize=9, ha='right')\n",
    "                \n",
    "                # Cercle unité\n",
    "                ax.add_artist(plt.Circle((0, 0), 1, color='gray', linestyle='--', fill=False))\n",
    "                \n",
    "                # Flèches des variables\n",
    "                correlations = self.pca.components_.T * np.sqrt(self.pca.explained_variance_)\n",
    "                for i in range(correlations.shape[0]):\n",
    "                    x, y = correlations[i, pc_x], correlations[i, pc_y]\n",
    "                    plt.arrow(0, 0, x, y, color='red', alpha=0.7, head_width=0.04, head_length=0.04)\n",
    "                    if show_vector_labels.value:\n",
    "                        plt.text(x, y, self.data.columns[i], fontsize=10, ha='center', va='center')\n",
    "                \n",
    "                # Ajustements visuels pour se focaliser sur [-axis_limit, axis_limit]\n",
    "                ax.set_xlim(-axis_limit_widget.value, axis_limit_widget.value)\n",
    "                ax.set_ylim(-axis_limit_widget.value, axis_limit_widget.value)\n",
    "                ax.set_xlabel(f'PC{pc_x+1}')\n",
    "                ax.set_ylabel(f'PC{pc_y+1}')\n",
    "                ax.set_title('Variable plots (CPA)')\n",
    "                ax.set_aspect('equal')\n",
    "                plt.axhline(0, color='grey', linestyle='--')\n",
    "                plt.axvline(0, color='grey', linestyle='--')\n",
    "                plt.grid(False)\n",
    "                plt.show()\n",
    "\n",
    "        # Widgets pour sélectionner les composantes principales\n",
    "        pc_x_widget = widgets.IntSlider(value=1, min=1, max=self.pca.n_components_, description='PC X:')\n",
    "        pc_y_widget = widgets.IntSlider(value=2, min=1, max=self.pca.n_components_, description='PC Y:')\n",
    "        show_point = widgets.Checkbox(value=True, description='Supplementary variables')\n",
    "        show_vector_labels = widgets.Checkbox(value=True, description='Vector labels')\n",
    "        fig_size_widget = widgets.IntSlider(value=10, min=8, max=14, description='Figure length')\n",
    "        axis_limit_widget = widgets.IntSlider(value=2, min=1, max=5, description='Axis limit')\n",
    "\n",
    "        # Liaison des widgets\n",
    "        for widget in (pc_x_widget, pc_y_widget, show_point, show_vector_labels, fig_size_widget, axis_limit_widget):\n",
    "            widget.observe(update_plot, names='value')\n",
    "\n",
    "        # Affichage\n",
    "        display(widgets.VBox([pc_x_widget, pc_y_widget, show_point, show_vector_labels, fig_size_widget, axis_limit_widget]), output)\n",
    "        update_plot()"
   ]
  },
  {
   "cell_type": "code",
   "execution_count": 148,
   "metadata": {},
   "outputs": [
    {
     "data": {
      "text/plain": [
       "'c:\\\\Users\\\\Matteo\\\\Desktop\\\\TG\\\\Python'"
      ]
     },
     "execution_count": 148,
     "metadata": {},
     "output_type": "execute_result"
    }
   ],
   "source": [
    "os.getcwd()"
   ]
  },
  {
   "cell_type": "code",
   "execution_count": 149,
   "metadata": {},
   "outputs": [],
   "source": [
    "df = pd.read_csv(os.getcwd()+\"\\\\dataset_Clean.csv\", index_col='Metrics')\n",
    "year='2017'\n",
    "dataset = df[df.Date == f'31/12/{year}']\n",
    "dataset = dataset.drop('Date',axis=1)\n",
    "\n",
    "acp = my_pca(dataset.T)"
   ]
  },
  {
   "cell_type": "code",
   "execution_count": 150,
   "metadata": {},
   "outputs": [
    {
     "data": {
      "image/png": "[encoded data removed]",
      "text/plain": [
       "<Figure size 800x500 with 1 Axes>"
      ]
     },
     "metadata": {},
     "output_type": "display_data"
    }
   ],
   "source": [
    "acp.eigenval_plot()"
   ]
  },
  {
   "cell_type": "code",
   "execution_count": 151,
   "metadata": {},
   "outputs": [
    {
     "data": {
      "application/vnd.jupyter.widget-view+json": {
       "model_id": "a8db94b4a3534994a20616b7d19f94e0",
       "version_major": 2,
       "version_minor": 0
      },
      "text/plain": [
       "VBox(children=(IntSlider(value=1, description='PC X:', max=8, min=1), IntSlider(value=2, description='PC Y:', …"
      ]
     },
     "metadata": {},
     "output_type": "display_data"
    },
    {
     "data": {
      "application/vnd.jupyter.widget-view+json": {
       "model_id": "4c3525cebc604d2e86890035a693dbb5",
       "version_major": 2,
       "version_minor": 0
      },
      "text/plain": [
       "Output()"
      ]
     },
     "metadata": {},
     "output_type": "display_data"
    }
   ],
   "source": [
    "acp.var_plot()"
   ]
  },
  {
   "cell_type": "code",
   "execution_count": null,
   "metadata": {},
   "outputs": [],
   "source": []
  }
 ],
 "metadata": {
  "kernelspec": {
   "display_name": "Python 3",
   "language": "python",
   "name": "python3"
  },
  "language_info": {
   "codemirror_mode": {
    "name": "ipython",
    "version": 3
   },
   "file_extension": ".py",
   "mimetype": "text/x-python",
   "name": "python",
   "nbconvert_exporter": "python",
   "pygments_lexer": "ipython3",
   "version": "3.11.9"
  }
 },
 "nbformat": 4,
 "nbformat_minor": 2
}
